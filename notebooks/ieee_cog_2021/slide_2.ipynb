{
 "cells": [
  {
   "cell_type": "markdown",
   "id": "18307208",
   "metadata": {},
   "source": [
    "# Cellular Automata Reinforcement Learning Environment (CARLE): Why? \n",
    "<br><br>\n",
    "## _With no intrinsic reward or natural episodes, CARLE hardly fits into the reinforcement learning paradigm._\n",
    "\n",
    "<br><br>\n",
    "<div align=\"center\">\n",
    "<img src=\"../../assets/life_sprayer.gif\" width=80%>\n",
    "<br>\n",
    "<h2>\"Sprayer\" spaceship found by Adam P. Goucher using software tools in May 2021 (<a href=\"https://conwaylife.com/wiki/Sprayer\">https://conwaylife.com/wiki/Sprayer</a>)</h2>\n",
    "</div>\n",
    "<br>\n",
    "    \n",
    "\n",
    "\n"
   ]
  },
  {
   "cell_type": "code",
   "execution_count": null,
   "id": "922d8bea",
   "metadata": {},
   "outputs": [],
   "source": []
  }
 ],
 "metadata": {
  "kernelspec": {
   "display_name": "Python 3",
   "language": "python",
   "name": "python3"
  },
  "language_info": {
   "codemirror_mode": {
    "name": "ipython",
    "version": 3
   },
   "file_extension": ".py",
   "mimetype": "text/x-python",
   "name": "python",
   "nbconvert_exporter": "python",
   "pygments_lexer": "ipython3",
   "version": "3.6.9"
  }
 },
 "nbformat": 4,
 "nbformat_minor": 5
}
