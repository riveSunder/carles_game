{
 "cells": [
  {
   "cell_type": "markdown",
   "id": "d9dfbe0b",
   "metadata": {},
   "source": [
    "# Carle's Game: a Game of Baselines\n",
    "\n",
    "\n",
    "<div align=\"center\">\n",
    "<img src=\"../../assets/harli_reset_wave_strategy.gif\" width=60%>\n",
    "</div>\n",
    "\n",
    "\n",
    "-----------------------\n",
    "## * [https://github.com/rivesunder/moving_in_morley](https://github.com/rivesunder/moving_in_morley)\n",
    "### * [https://mybinder.org/v2/gh/riveSunder/moving_in_morley/master?urlpath=/proxy/5006/bokeh-app](https://mybinder.org/v2/gh/riveSunder/moving_in_morley/master?urlpath=/proxy/5006/bokeh-app)\n",
    "\n",
    "---------------\n",
    "## * [https://github.com/rivesunder/harli_learning](https://github.com/rivesunder/harli_learning)\n",
    "### * [https://mybinder.org/v2/gh/riveSunder/harli_learning/master?urlpath=/proxy/5006/bokeh-app](https://mybinder.org/v2/gh/riveSunder/harli_learning/master?urlpath=/proxy/5006/bokeh-app)\n",
    "--------------\n",
    "## Can you beat the bot? [https://github.com/rivesunder/human_vs_harli](https://github.com/rivesunder/human_vs_harli)\n",
    "### [https://mybinder.org/v2/gh/riveSunder/human_vs_harli/master?urlpath=/proxy/5006/bokeh-app](https://mybinder.org/v2/gh/riveSunder/human_vs_harli/master?urlpath=/proxy/5006/bokeh-app)"
   ]
  },
  {
   "cell_type": "code",
   "execution_count": null,
   "id": "20889f08",
   "metadata": {},
   "outputs": [],
   "source": []
  }
 ],
 "metadata": {
  "kernelspec": {
   "display_name": "Python 3",
   "language": "python",
   "name": "python3"
  },
  "language_info": {
   "codemirror_mode": {
    "name": "ipython",
    "version": 3
   },
   "file_extension": ".py",
   "mimetype": "text/x-python",
   "name": "python",
   "nbconvert_exporter": "python",
   "pygments_lexer": "ipython3",
   "version": "3.6.9"
  }
 },
 "nbformat": 4,
 "nbformat_minor": 5
}
