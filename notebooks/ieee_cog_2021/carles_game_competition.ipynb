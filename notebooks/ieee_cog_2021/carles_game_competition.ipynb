{
 "cells": [
  {
   "cell_type": "markdown",
   "id": "7b6e323f",
   "metadata": {},
   "source": [
    "<div align=\"center\">\n",
    "    <h1>Carle's Game Competition: Post-Mortem</h1>\n",
    "<img src=\"../../assets/comp_figure.png\" width=80%>\n",
    "\n",
    "<h3>Q. Tyrell Davis</h3>\n",
    "<br>\n",
    "<h3>IEEE Conference on Games 2021/08/20</h3>\n",
    "\n",
    "<h3>try it out ->\n",
    "<a href=\"https://mybinder.org/v2/gh/riveSunder/human_vs_harli/master?urlpath=/proxy/5006/bokeh-app\">https://mybinder.org/v2/gh/riveSunder/human_vs_harli/master?urlpath=/proxy/5006/bokeh-app</a></h3>\n",
    "\n",
    "<h3>\n",
    "<a href=\"https://github.com/rivesunder/human_vs_harli\">https://github.com/rivesunder/human_vs_harli</a></h3>\n",
    "</div>\n",
    "\n",
    "\n",
    "\n"
   ]
  },
  {
   "cell_type": "code",
   "execution_count": null,
   "id": "c76d05f4",
   "metadata": {},
   "outputs": [],
   "source": []
  }
 ],
 "metadata": {
  "kernelspec": {
   "display_name": "Python 3",
   "language": "python",
   "name": "python3"
  },
  "language_info": {
   "codemirror_mode": {
    "name": "ipython",
    "version": 3
   },
   "file_extension": ".py",
   "mimetype": "text/x-python",
   "name": "python",
   "nbconvert_exporter": "python",
   "pygments_lexer": "ipython3",
   "version": "3.6.9"
  }
 },
 "nbformat": 4,
 "nbformat_minor": 5
}
