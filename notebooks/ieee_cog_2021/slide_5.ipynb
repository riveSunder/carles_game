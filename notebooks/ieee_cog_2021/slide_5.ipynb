{
 "cells": [
  {
   "cell_type": "markdown",
   "id": "2a2bef95",
   "metadata": {},
   "source": [
    "# Prediction/Surprise\n",
    "\n",
    "### Prediction reward for glider progression\n",
    "<img src=\"../../assets/glider_prediction.gif\" width=80%>\n",
    "\n",
    "For example see: Stadie, Bradly C. et al. “Incentivizing Exploration In Reinforcement Learning With Deep Predictive Models.” ArXiv abs/1507.00814 (2015): "
   ]
  },
  {
   "cell_type": "markdown",
   "id": "b7ba0619",
   "metadata": {},
   "source": [
    "\n",
    "### The noisy TV problem, chaos and complexity\n",
    "<img src=\"../../assets/acorn_prediction.gif\" width=80%>\n",
    "<img src=\"../../assets/oscillators_prediction.gif\" width=80%>\n",
    "\n"
   ]
  },
  {
   "cell_type": "markdown",
   "id": "82836e13",
   "metadata": {},
   "source": [
    "\n",
    "### Prediction is easier when the universe is empty\n",
    "<img src=\"../../assets/glider_prediction_again.gif\" width=80%>\n"
   ]
  }
 ],
 "metadata": {
  "kernelspec": {
   "display_name": "Python 3",
   "language": "python",
   "name": "python3"
  },
  "language_info": {
   "codemirror_mode": {
    "name": "ipython",
    "version": 3
   },
   "file_extension": ".py",
   "mimetype": "text/x-python",
   "name": "python",
   "nbconvert_exporter": "python",
   "pygments_lexer": "ipython3",
   "version": "3.6.9"
  }
 },
 "nbformat": 4,
 "nbformat_minor": 5
}
