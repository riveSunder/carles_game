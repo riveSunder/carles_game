{
 "cells": [
  {
   "cell_type": "markdown",
   "id": "98411fc0",
   "metadata": {},
   "source": [
    "# Ever Heard of AlphaGo?\n",
    "\n",
    "<img src=\"../../assets/morley_puffer.png\" width=50%>"
   ]
  },
  {
   "cell_type": "markdown",
   "id": "f1f1b6aa",
   "metadata": {},
   "source": [
    "# Ever Heard of AlphaGo?\n",
    "\n",
    "<img src=\"../../assets/morley_puffer.gif\" width=50%>"
   ]
  },
  {
   "cell_type": "code",
   "execution_count": null,
   "id": "0cf1d735",
   "metadata": {},
   "outputs": [],
   "source": [
    "from IPython.core.display import display, HTML\n",
    "display(HTML(\"<style>.container { width:95% !important; }</style>\"))"
   ]
  },
  {
   "cell_type": "code",
   "execution_count": null,
   "id": "e719a52b",
   "metadata": {},
   "outputs": [],
   "source": []
  }
 ],
 "metadata": {
  "kernelspec": {
   "display_name": "Python 3",
   "language": "python",
   "name": "python3"
  },
  "language_info": {
   "codemirror_mode": {
    "name": "ipython",
    "version": 3
   },
   "file_extension": ".py",
   "mimetype": "text/x-python",
   "name": "python",
   "nbconvert_exporter": "python",
   "pygments_lexer": "ipython3",
   "version": "3.6.9"
  }
 },
 "nbformat": 4,
 "nbformat_minor": 5
}
