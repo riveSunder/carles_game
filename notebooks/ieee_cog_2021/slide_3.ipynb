{
 "cells": [
  {
   "cell_type": "markdown",
   "id": "4e0ac9ef",
   "metadata": {},
   "source": [
    "# The Universe(s) of Life-Like Cellular Automata\n",
    "<br>\n",
    "\n",
    "<div align=\"center\">\n",
    "<img src=\"../../assets/morley_glider_progression.gif\" width=80%>    \n",
    "</div>\n",
    "\n",
    "### * Simulating CA naturally lends itself to parallelization and hardware acceleration using deep learning libraries.\n",
    "\n",
    "### * \"Life-like\" CA include automata with similar rule formulations as John Conway's Game of Life (1970) and there are  262,144 possible rule sets\n",
    "\n",
    "### * Many of these are Turing complete, and new demonstrations of Turing completeness continue in 2021: [https://www.conwaylife.com/forums/viewtopic.php?f=11&t=2597](https://www.conwaylife.com/forums/viewtopic.php?f=11&t=2597) \n",
    "\n",
    "\n",
    "[[0]](https://web.stanford.edu/class/sts145/Library/life.pdf) Gardner, Martin. “MATHEMATICAL GAMES.” Scientific American, vol. 223, October 1970"
   ]
  },
  {
   "cell_type": "markdown",
   "id": "d29a28cf",
   "metadata": {},
   "source": [
    "<img src=\"../../assets/cpu_updates.png\" width=50%>\n",
    "<img src=\"../../assets/cuda0_updates.png\" width=50%>\n",
    "\n",
    "<img src=\"../../assets/gpu_updates.png\" width=70%>\n",
    "<img src=\"../../assets/gpu_steps.png\" width=70%>"
   ]
  },
  {
   "cell_type": "code",
   "execution_count": null,
   "id": "17eb4f8a",
   "metadata": {},
   "outputs": [],
   "source": [
    "# (most recently on 2021/02/04 for 2x2 ruleset by FWKnightship)\n"
   ]
  }
 ],
 "metadata": {
  "kernelspec": {
   "display_name": "Python 3",
   "language": "python",
   "name": "python3"
  },
  "language_info": {
   "codemirror_mode": {
    "name": "ipython",
    "version": 3
   },
   "file_extension": ".py",
   "mimetype": "text/x-python",
   "name": "python",
   "nbconvert_exporter": "python",
   "pygments_lexer": "ipython3",
   "version": "3.6.9"
  }
 },
 "nbformat": 4,
 "nbformat_minor": 5
}
