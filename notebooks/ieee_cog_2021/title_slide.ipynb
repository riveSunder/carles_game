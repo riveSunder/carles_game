{
 "cells": [
  {
   "cell_type": "markdown",
   "id": "d4656716",
   "metadata": {},
   "source": [
    "<div align=\"center\">\n",
    "    <h1>Carle's Game: An Open-Ended Challenge in Exploratory Machine Creativity </h1>\n",
    "<img src=\"../../assets/space_dotlife.png\" width=80%>\n",
    "\n",
    "<h3>Q. Tyrell Davis</h3>\n",
    "<br>\n",
    "<h3>IEEE Conference on Games 2021/08/20</h3>\n",
    "\n",
    "<h3>try it out (follow the mybinder link)-> <a href=\"https://github.com/rivesunder/human_vs_harli\">https://github.com/rivesunder/human_vs_harli</a></h3>\n",
    "    \n",
    "</div>"
   ]
  },
  {
   "cell_type": "code",
   "execution_count": null,
   "id": "1c011951",
   "metadata": {},
   "outputs": [],
   "source": [
    "from IPython.core.display import display, HTML\n",
    "display(HTML(\"<style>.container { width:95% !important; }</style>\"))"
   ]
  },
  {
   "cell_type": "code",
   "execution_count": null,
   "id": "3097e82d",
   "metadata": {},
   "outputs": [],
   "source": []
  }
 ],
 "metadata": {
  "kernelspec": {
   "display_name": "Python 3",
   "language": "python",
   "name": "python3"
  },
  "language_info": {
   "codemirror_mode": {
    "name": "ipython",
    "version": 3
   },
   "file_extension": ".py",
   "mimetype": "text/x-python",
   "name": "python",
   "nbconvert_exporter": "python",
   "pygments_lexer": "ipython3",
   "version": "3.6.9"
  }
 },
 "nbformat": 4,
 "nbformat_minor": 5
}
