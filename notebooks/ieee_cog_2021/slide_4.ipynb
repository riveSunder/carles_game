{
 "cells": [
  {
   "cell_type": "markdown",
   "id": "b2a6e36d",
   "metadata": {},
   "source": [
    "# How Can We Guide Learning in an Open-Ended Environment?\n",
    "\n",
    "## * Hand-coded reward proxies\n",
    "\n",
    "## * Prediction and Surprise\n",
    "\n",
    "## * Novelty\n",
    "\n",
    "<div align=\"center\">\n",
    "<img src=\"../../assets/gosper_glider_surprise.gif\" width=80%>\n",
    "<img src=\"../../assets/screen_tb_gosper_surprise_reward.png\" width=80%>\n",
    "</div>\n",
    "    "
   ]
  },
  {
   "cell_type": "code",
   "execution_count": null,
   "id": "de0fd040",
   "metadata": {},
   "outputs": [],
   "source": []
  }
 ],
 "metadata": {
  "kernelspec": {
   "display_name": "Python 3",
   "language": "python",
   "name": "python3"
  },
  "language_info": {
   "codemirror_mode": {
    "name": "ipython",
    "version": 3
   },
   "file_extension": ".py",
   "mimetype": "text/x-python",
   "name": "python",
   "nbconvert_exporter": "python",
   "pygments_lexer": "ipython3",
   "version": "3.6.9"
  }
 },
 "nbformat": 4,
 "nbformat_minor": 5
}
