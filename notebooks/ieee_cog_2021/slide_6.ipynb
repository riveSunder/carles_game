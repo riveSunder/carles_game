{
 "cells": [
  {
   "cell_type": "markdown",
   "id": "b89b19a3",
   "metadata": {},
   "source": [
    "# Novelty\n",
    "\n",
    "### CARLE uses two novelty-based reward proxies: Random Network Distillation and Autoencoder Loss\n",
    "\n",
    "\n",
    "<img src=\"../../assets/oscillator_policy_life_ae_rnd.gif\" width=60%>\n",
    "\n",
    "Burda, Yuri et al. “Exploration by Random Network Distillation.” ArXiv abs/1810.12894 (2019): n. pag."
   ]
  },
  {
   "cell_type": "markdown",
   "id": "803f06b1",
   "metadata": {},
   "source": [
    "### In CARLE's implementation, the autoencoder loss reward uses a fully convolutional network while the random network distillation random and prediction networks each use a fully connected head. This gives the AE reward translation invariance while the RND reward depends partially on where a pattern appears and jumps for edge crossings."
   ]
  },
  {
   "cell_type": "code",
   "execution_count": null,
   "id": "cbf5f484",
   "metadata": {},
   "outputs": [],
   "source": []
  }
 ],
 "metadata": {
  "kernelspec": {
   "display_name": "Python 3",
   "language": "python",
   "name": "python3"
  },
  "language_info": {
   "codemirror_mode": {
    "name": "ipython",
    "version": 3
   },
   "file_extension": ".py",
   "mimetype": "text/x-python",
   "name": "python",
   "nbconvert_exporter": "python",
   "pygments_lexer": "ipython3",
   "version": "3.6.9"
  }
 },
 "nbformat": 4,
 "nbformat_minor": 5
}
